{
  "nbformat": 4,
  "nbformat_minor": 0,
  "metadata": {
    "colab": {
      "provenance": [],
      "authorship_tag": "ABX9TyNCCZAoRHt+ifrgW/wBLfBV",
      "include_colab_link": true
    },
    "kernelspec": {
      "name": "python3",
      "display_name": "Python 3"
    },
    "language_info": {
      "name": "python"
    }
  },
  "cells": [
    {
      "cell_type": "markdown",
      "metadata": {
        "id": "view-in-github",
        "colab_type": "text"
      },
      "source": [
        "<a href=\"https://colab.research.google.com/github/arshadsid15/week2.ipynb/blob/main/week2.ipynb\" target=\"_parent\"><img src=\"https://colab.research.google.com/assets/colab-badge.svg\" alt=\"Open In Colab\"/></a>"
      ]
    },
    {
      "cell_type": "code",
      "execution_count": 4,
      "metadata": {
        "colab": {
          "base_uri": "https://localhost:8080/"
        },
        "id": "XTGrtuGFeTKC",
        "outputId": "acf8331c-8980-48a7-f058-c4f48611a3ea"
      },
      "outputs": [
        {
          "output_type": "stream",
          "name": "stdout",
          "text": [
            "0\n"
          ]
        }
      ],
      "source": [
        "#1 Create a function that takes three integer arguments (a, b, c) and returns the amount of integers which are of equal value.\n",
        "\n",
        "def num(x,y,z,) :\n",
        "  if x == y and x == z:\n",
        "    return 3\n",
        "  elif x==y or x==z:\n",
        "    return 2\n",
        "  else:\n",
        "    return 0\n",
        "print(num(2,1,3))"
      ]
    },
    {
      "cell_type": "code",
      "source": [
        "#2 Write a function that converts a dictionary into a list of keys-values tuples.\n",
        "dict = { 'Arshad': 15, 'akit': 17, 'sauNDARYA': 85 }\n",
        "list = [(a, b) for a, b in dict.items()]\n",
        "print(sorted(list))"
      ],
      "metadata": {
        "colab": {
          "base_uri": "https://localhost:8080/"
        },
        "id": "AzvS_4WbedEz",
        "outputId": "df3e3ce8-ce24-45d1-8c4d-b99ce3e58729"
      },
      "execution_count": 5,
      "outputs": [
        {
          "output_type": "stream",
          "name": "stdout",
          "text": [
            "[('Arshad', 15), ('akit', 17), ('sauNDARYA', 85)]\n"
          ]
        }
      ]
    },
    {
      "cell_type": "code",
      "source": [
        "#3 Write a function that creates a dictionary with each (key, value) pair being the (lower case, upper case) versions of a letter, respectively.\n",
        "list = ['a','t','d','a','v','t']\n",
        "a = {}\n",
        "\n",
        "for letters in list:\n",
        "  b = letters.upper()\n",
        "  a.update({letters:b})\n",
        "print(a)"
      ],
      "metadata": {
        "colab": {
          "base_uri": "https://localhost:8080/"
        },
        "id": "i9oZ4kqYedK3",
        "outputId": "8141fa70-f578-4c2d-c71e-4c4bd79ed4d0"
      },
      "execution_count": 6,
      "outputs": [
        {
          "output_type": "stream",
          "name": "stdout",
          "text": [
            "{'a': 'A', 't': 'T', 'd': 'D', 'v': 'V'}\n"
          ]
        }
      ]
    },
    {
      "cell_type": "code",
      "source": [
        "#4 Write a function, that replaces all vowels in a string with a specified vowel.\n",
        "print(\"Enter the String: \")\n",
        "str = input()\n",
        "\n",
        "print(\"Enter a character: \")\n",
        "char = input()\n",
        "\n",
        "newstr = \"\"\n",
        "for i in range(len(str)):\n",
        "    if str[i]=='a' or str[i]=='e' or str[i]=='i' or str[i]=='o' or str[i]=='u':\n",
        "        newstr = newstr + char\n",
        "    else:\n",
        "        newstr = newstr + str[i]\n",
        "\n",
        "print(\"\\nOriginal String:\", str)\n",
        "print(\"New String:\", newstr)"
      ],
      "metadata": {
        "colab": {
          "base_uri": "https://localhost:8080/"
        },
        "id": "Hlb9Q5r-edPd",
        "outputId": "5da9056e-f8ef-4118-ddba-2c37325a22a0"
      },
      "execution_count": 7,
      "outputs": [
        {
          "output_type": "stream",
          "name": "stdout",
          "text": [
            "Enter the String: \n",
            "4\n",
            "Enter a character: \n",
            "7\n",
            "\n",
            "Original String: 4\n",
            "New String: 4\n"
          ]
        }
      ]
    },
    {
      "cell_type": "code",
      "source": [
        "#5 Create a function that takes a string as input and capitalizes a letter if its ASCII code is even and returns its lower case version if its ASCII code is odd.\n",
        "def ascii(st):\n",
        "  res=[]\n",
        "  for index, c in enumerate(st):\n",
        "    if index%2==0:\n",
        "      res.append(c.upper())\n",
        "    else:\n",
        "      res.append(c.lower())\n",
        "  return''.join(res)\n",
        "print(ascii(\"Arshad\"))"
      ],
      "metadata": {
        "colab": {
          "base_uri": "https://localhost:8080/"
        },
        "id": "rfDdPraqedTv",
        "outputId": "e1522e05-2e8a-4c9a-f1b6-d7a2be2a29d2"
      },
      "execution_count": 9,
      "outputs": [
        {
          "output_type": "stream",
          "name": "stdout",
          "text": [
            "ArShAd\n"
          ]
        }
      ]
    },
    {
      "cell_type": "markdown",
      "source": [
        "***SECTION B***"
      ],
      "metadata": {
        "id": "54WVVsSJfV3H"
      }
    },
    {
      "cell_type": "code",
      "source": [
        "def my_function():\n",
        "  print(\"Hello from a function\")\n",
        "\n",
        "my_function()"
      ],
      "metadata": {
        "colab": {
          "base_uri": "https://localhost:8080/"
        },
        "id": "5rrJXe13edYU",
        "outputId": "dd16d9c9-871c-4615-89f2-2f7636990843"
      },
      "execution_count": 2,
      "outputs": [
        {
          "output_type": "stream",
          "name": "stdout",
          "text": [
            "Hello from a function\n"
          ]
        }
      ]
    },
    {
      "cell_type": "code",
      "source": [
        "def my_function(country = \"Norway\"):\n",
        "  print(\"I am from \" + country)\n",
        "\n",
        "my_function(\"Norway\")\n",
        "my_function(\"New zeland\")\n",
        "my_function()\n",
        "my_function(\"Ice land\")"
      ],
      "metadata": {
        "colab": {
          "base_uri": "https://localhost:8080/"
        },
        "id": "KMM-cddeedbv",
        "outputId": "66ad4b9d-9a2c-4df0-ebab-41fff5daa792"
      },
      "execution_count": 11,
      "outputs": [
        {
          "output_type": "stream",
          "name": "stdout",
          "text": [
            "I am from Norway\n",
            "I am from New zeland\n",
            "I am from Norway\n",
            "I am from Ice land\n"
          ]
        }
      ]
    },
    {
      "cell_type": "code",
      "source": [
        "def my_function(food):\n",
        "  for x in food:\n",
        "    print(x)\n",
        "\n",
        "fruits = [\"grapes\", \"banana\", \"guava\"]\n",
        "\n",
        "my_function(fruits)"
      ],
      "metadata": {
        "colab": {
          "base_uri": "https://localhost:8080/"
        },
        "id": "kqmc-ArdedfT",
        "outputId": "37e6b2e9-56fa-43d9-9f9b-233f9ea0eb49"
      },
      "execution_count": 10,
      "outputs": [
        {
          "output_type": "stream",
          "name": "stdout",
          "text": [
            "grapes\n",
            "banana\n",
            "guava\n"
          ]
        }
      ]
    },
    {
      "cell_type": "code",
      "source": [
        "# Python program to convert Celsius to Fahrenheit using function\n",
        "\n",
        "def convertTemp(c):\n",
        "   f = (c * 1.8) + 32\n",
        "   return f\n",
        "    \n",
        "\n",
        "cel = float(input('Enter temperature in Celsius: '))\n",
        "\n",
        "\n",
        "fahr = convertTemp(cel)\n",
        "print('%0.1f degrees Celsius is equivalent to %0.1f degrees Fahrenheit' %(cel, fahr))"
      ],
      "metadata": {
        "colab": {
          "base_uri": "https://localhost:8080/"
        },
        "id": "gUkutmFUedxK",
        "outputId": "07ba5b2e-ba19-44d6-8917-e6284968597a"
      },
      "execution_count": 12,
      "outputs": [
        {
          "output_type": "stream",
          "name": "stdout",
          "text": [
            "Enter temperature in Celsius: 46\n",
            "46.0 degrees Celsius is equivalent to 114.8 degrees Fahrenheit\n"
          ]
        }
      ]
    },
    {
      "cell_type": "code",
      "source": [
        "def kilometre_1(km):  \n",
        "    conversion_ratio_1= 0.621371  \n",
        "    miles_1 = km * conversion_ratio_1  \n",
        "    print (\"The speed value of car in Miles: \", miles_1)  \n",
        "km = float (input (\"Please enter the speed of car in Kilometre as a unit: \"))  \n",
        "kilometre_1(km)"
      ],
      "metadata": {
        "colab": {
          "base_uri": "https://localhost:8080/"
        },
        "id": "4XeiObIwgLiI",
        "outputId": "f5c878ea-2c54-4c96-d65b-6d8012e1a5fd"
      },
      "execution_count": 13,
      "outputs": [
        {
          "output_type": "stream",
          "name": "stdout",
          "text": [
            "Please enter the speed of car in Kilometre as a unit: 86\n",
            "The speed value of car in Miles:  53.437906\n"
          ]
        }
      ]
    },
    {
      "cell_type": "code",
      "source": [],
      "metadata": {
        "id": "xenMp-VDgLmq"
      },
      "execution_count": null,
      "outputs": []
    }
  ]
}